{
 "cells": [
  {
   "cell_type": "markdown",
   "metadata": {},
   "source": [
    "# Taller  0-1 Notebook\n",
    "* Google Colab\n",
    "* Kaggle\n",
    "* Visual Studio Code\n",
    "\n",
    "Crear repositorio a Github!\n",
    "Subir al aula virtual link de repo **público**."
   ]
  },
  {
   "cell_type": "markdown",
   "metadata": {},
   "source": [
    "## Enlaces interés\n",
    "* https://gitmoji.dev/\n",
    "* https://github.com/ztjona/taller-01-MN"
   ]
  },
  {
   "cell_type": "markdown",
   "metadata": {},
   "source": [
    "# TAREA GRAFICAR\n",
    "$y(x)=x^3-7x^2+4x+12$\n",
    "\n",
    "## Recomendaciones\n",
    "* Hacer tabla\n",
    "\n",
    "| i | x | y|\n",
    "|---|---|---|\n",
    "| 0 | -5 | ? |\n",
    "| 1 | 0 | ? |\n",
    "| 2 | 5 | ? |"
   ]
  },
  {
   "cell_type": "code",
   "execution_count": 7,
   "metadata": {},
   "outputs": [],
   "source": [
    "# y(x)=x^3-7x^2+4x+12\n",
    "def eqn(x: int) -> int:\n",
    "    # ** símbolo de potencia en python, no se usa el `^` como en otros lenguajes\n",
    "    return x**3 - 7 * x**2 + 4 * x + 12"
   ]
  },
  {
   "cell_type": "code",
   "execution_count": 17,
   "metadata": {},
   "outputs": [
    {
     "name": "stdout",
     "output_type": "stream",
     "text": [
      "x = -5 \ty = -308\n",
      "x = 0 \ty = 12\n",
      "x = 5 \ty = -18\n"
     ]
    },
    {
     "data": {
      "text/plain": [
       "[-308, 12, -18]"
      ]
     },
     "execution_count": 17,
     "metadata": {},
     "output_type": "execute_result"
    }
   ],
   "source": [
    "Xs, Ys = [], []\n",
    "for x in [-5, 0, 5]:\n",
    "    y = eqn(x)\n",
    "    Xs.append(x)\n",
    "    Ys.append(y)\n",
    "    print(f\"x = {x} \\ty = {y}\")\n",
    "Ys"
   ]
  }
 ],
 "metadata": {
  "kernelspec": {
   "display_name": "Python 3",
   "language": "python",
   "name": "python3"
  },
  "language_info": {
   "codemirror_mode": {
    "name": "ipython",
    "version": 3
   },
   "file_extension": ".py",
   "mimetype": "text/x-python",
   "name": "python",
   "nbconvert_exporter": "python",
   "pygments_lexer": "ipython3",
   "version": "3.10.8"
  }
 },
 "nbformat": 4,
 "nbformat_minor": 2
}
